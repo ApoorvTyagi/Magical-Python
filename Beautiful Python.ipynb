{
 "cells": [
  {
   "cell_type": "markdown",
   "metadata": {},
   "source": [
    "## Check If a website is Down or not."
   ]
  },
  {
   "cell_type": "code",
   "execution_count": 3,
   "metadata": {},
   "outputs": [
    {
     "name": "stdout",
     "output_type": "stream",
     "text": [
      "Enter URL:facebook.com\n",
      "facebook.com is up.\n"
     ]
    }
   ],
   "source": [
    "from bs4 import BeautifulSoup\n",
    "import requests\n",
    "\n",
    "url=input('Enter URL:')\n",
    "res=requests.get('https://isitup.org/'+url) #requesting for the URL\n",
    "\n",
    "#scrapping the website\n",
    "soup=BeautifulSoup(res.text,'lxml')\n",
    "scrap=soup.find('div',{'id':'container'})\n",
    "output=scrap.find('p').text\n",
    "\n",
    "print(output)"
   ]
  },
  {
   "cell_type": "markdown",
   "metadata": {},
   "source": [
    "## Convert Audio file to text using google web speech API"
   ]
  },
  {
   "cell_type": "code",
   "execution_count": 6,
   "metadata": {},
   "outputs": [
    {
     "data": {
      "text/plain": [
       "'the salesman old beer drinkers it takes hi to bring out the order I called them restore selfinvest a salt ACL this find him because of my favourite is just for food is Bihar cross bun'"
      ]
     },
     "execution_count": 6,
     "metadata": {},
     "output_type": "execute_result"
    }
   ],
   "source": [
    "import speech_recognition as sr\n",
    "\n",
    "r=sr.Recognizer()\n",
    "audio=sr.AudioFile('harvard.wav')\n",
    "with audio as source:\n",
    "    text=r.record(source)\n",
    "r.recognize_google(text)"
   ]
  },
  {
   "cell_type": "markdown",
   "metadata": {},
   "source": [
    "## Form a word cloud"
   ]
  },
  {
   "cell_type": "code",
   "execution_count": 16,
   "metadata": {},
   "outputs": [
    {
     "name": "stdout",
     "output_type": "stream",
     "text": [
      "ENTER THE TEXT:Hello Apoorv Apoorv Tyagi hello Good\n"
     ]
    },
    {
     "data": {
      "image/png": "[encoded data removed]",
      "text/plain": [
       "<Figure size 432x288 with 1 Axes>"
      ]
     },
     "metadata": {
      "needs_background": "light"
     },
     "output_type": "display_data"
    }
   ],
   "source": [
    "from wordcloud import WordCloud\n",
    "import matplotlib.pyplot as plt\n",
    "\n",
    "text=input(\"ENTER THE TEXT:\")\n",
    "cloud=WordCloud(background_color=\"white\").generate(text)\n",
    "\n",
    "plt.imshow(cloud)\n",
    "plt.axis('off')\n",
    "plt.show()"
   ]
  },
  {
   "cell_type": "markdown",
   "metadata": {},
   "source": [
    "## WhatsApp Spammer"
   ]
  },
  {
   "cell_type": "code",
   "execution_count": 13,
   "metadata": {},
   "outputs": [],
   "source": [
    "from selenium import webdriver\n",
    "from tkinter import *\n",
    "\n",
    "def whatsapp():\n",
    "\n",
    "        #name=input('Contact Name:')\n",
    "        #msg=input('Message:')\n",
    "        #count=int(input('Count of Msg:'))\n",
    "        name=key1.get()\n",
    "        msg=key2.get()\n",
    "        count=int(key3.get())\n",
    "\n",
    "        driver=webdriver.Chrome(executable_path='C:/users/tyagi/Downloads/chromedriver.exe')#Path of the chromeDriver\n",
    "        driver.get('https://web.whatsapp.com/')\n",
    "\n",
    "\n",
    "        user = driver.find_element_by_xpath('//span[@title = \"{}\"]'.format(name))\n",
    "        user.click()\n",
    "\n",
    "        msg_box = driver.find_element_by_class_name('_3u328')\n",
    "\n",
    "        for i in range(count):\n",
    "            msg_box.send_keys(msg)\n",
    "            driver.find_element_by_class_name('_3M-N-').click()\n",
    "        #print('Done...')\n",
    "\n",
    "#GUI PART\n",
    "window = Tk() \n",
    " \n",
    "#Window    \n",
    "window.title(\"WhatsApp Spam\")\n",
    "window.geometry('600x300')\n",
    "window.configure(background=\"#a1dbcd\")         \n",
    "\n",
    "#Label \n",
    "msgLabel= Label(window, text=\"Enter Contact Name/Group Name: \", font=(\"Serif\", 16), bg=\"#a1dbcd\")\n",
    "msgLabel.grid(column=1,row=2) \n",
    "\n",
    "key1=StringVar() \n",
    "\n",
    "#Label \n",
    "msgLabel= Label(window, text=\"Enter the Message: \", font=(\"Serif\", 16), bg=\"#a1dbcd\")\n",
    "msgLabel.grid(column=1,row=4) \n",
    "\n",
    "key2=StringVar() \n",
    "\n",
    "#Label \n",
    "msgLabel= Label(window, text=\"Enter Count of Message: \", font=(\"Serif\", 16), bg=\"#a1dbcd\")\n",
    "msgLabel.grid(column=1,row=6) \n",
    "\n",
    "key3=StringVar() \n",
    "\n",
    "\n",
    " \n",
    "#Input Entry    \n",
    "input_msg = Entry(window,textvariable = key1, width=20, font=(\"Serif\", 12))\n",
    "input_msg.grid(column=2, row=2)\n",
    "input_msg.focus()  \n",
    "\n",
    "#Input Entry    \n",
    "input_msg = Entry(window,textvariable = key2, width=20, font=(\"Serif\", 12))\n",
    "input_msg.grid(column=2, row=4)\n",
    "input_msg.focus()  \n",
    "\n",
    "#Input Entry    \n",
    "input_msg = Entry(window,textvariable = key3, width=20, font=(\"Serif\", 12))\n",
    "input_msg.grid(column=2, row=6)\n",
    "input_msg.focus()  \n",
    "\n",
    "\n",
    "#Open Button\n",
    "finalStr = Button(window, text=\"Open\", font=(\"Serif\", 16),command = whatsapp) \n",
    "finalStr.grid(column=2, row=27)  \n",
    "\n",
    " \n",
    "window.mainloop()"
   ]
  },
  {
   "cell_type": "code",
   "execution_count": null,
   "metadata": {},
   "outputs": [],
   "source": []
  }
 ],
 "metadata": {
  "kernelspec": {
   "display_name": "Python 3",
   "language": "python",
   "name": "python3"
  },
  "language_info": {
   "codemirror_mode": {
    "name": "ipython",
    "version": 3
   },
   "file_extension": ".py",
   "mimetype": "text/x-python",
   "name": "python",
   "nbconvert_exporter": "python",
   "pygments_lexer": "ipython3",
   "version": "3.7.0"
  }
 },
 "nbformat": 4,
 "nbformat_minor": 2
}
