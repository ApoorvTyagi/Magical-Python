{
 "cells": [
  {
   "cell_type": "code",
   "execution_count": 7,
   "metadata": {},
   "outputs": [
    {
     "name": "stdout",
     "output_type": "stream",
     "text": [
      "Please Check the channel name carefully....\n"
     ]
    }
   ],
   "source": [
    "from tkinter import *\n",
    "import random\n",
    "import webbrowser\n",
    "import feedparser\n",
    "\n",
    "def play():\n",
    "    str1=key.get()\n",
    "    try:\n",
    "        url=feedparser.parse(\"https://www.youtube.com/feeds/videos.xml?user=\"+''.join(str1))\n",
    "        video=url.entries[random.randint(1,50)] #Pick a Random video (from 1 to 50)\n",
    "        webbrowser.open(video.link)\n",
    "    except:\n",
    "        print('Please Check and confirm the channel name....')\n",
    "\n",
    "window = Tk() \n",
    " \n",
    "#Window    \n",
    "window.title(\"Youtube Random Play\")\n",
    "window.geometry('400x100')\n",
    "window.configure(background=\"#a1dbcd\")         \n",
    "\n",
    "#Label \n",
    "msgLabel= Label(window, text=\"Channel Name: \", font=(\"Serif\", 16), bg=\"#a1dbcd\")\n",
    "msgLabel.grid(column=1,row=2) \n",
    "\n",
    "key=StringVar() \n",
    " \n",
    "#Input Entry    \n",
    "input_msg = Entry(window,textvariable = key, width=20, font=(\"Serif\", 12))\n",
    "input_msg.grid(column=2, row=2)\n",
    "input_msg.focus()  \n",
    "\n",
    "#Open Button\n",
    "finalStr = Button(window, text=\"Open\", font=(\"Serif\", 16),command = play) \n",
    "finalStr.grid(column=2, row=27)  \n",
    "\n",
    " \n",
    "window.mainloop()"
   ]
  },
  {
   "cell_type": "code",
   "execution_count": null,
   "metadata": {},
   "outputs": [],
   "source": []
  }
 ],
 "metadata": {
  "kernelspec": {
   "display_name": "Python 3",
   "language": "python",
   "name": "python3"
  },
  "language_info": {
   "codemirror_mode": {
    "name": "ipython",
    "version": 3
   },
   "file_extension": ".py",
   "mimetype": "text/x-python",
   "name": "python",
   "nbconvert_exporter": "python",
   "pygments_lexer": "ipython3",
   "version": "3.7.0"
  }
 },
 "nbformat": 4,
 "nbformat_minor": 2
}
